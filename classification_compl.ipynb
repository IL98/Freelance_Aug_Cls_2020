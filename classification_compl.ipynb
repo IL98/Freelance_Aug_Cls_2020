{
 "cells": [
  {
   "cell_type": "markdown",
   "metadata": {},
   "source": [
    "# Pipeline for classfication"
   ]
  },
  {
   "cell_type": "markdown",
   "metadata": {
    "id": "AxaVohxDv_DK"
   },
   "source": [
    "library **imbalanced-learn** is needed for cleaning of the dataset"
   ]
  },
  {
   "cell_type": "code",
   "execution_count": null,
   "metadata": {},
   "outputs": [],
   "source": [
    "# uncomment if you want to install it via pip\n",
    "\n",
    "#! pip install -U imbalanced-learn"
   ]
  },
  {
   "cell_type": "code",
   "execution_count": 5,
   "metadata": {
    "id": "WIjaFXFhq9nm"
   },
   "outputs": [],
   "source": [
    "import tensorflow as tf\n",
    "\n",
    "import keras\n",
    "from keras.models import Sequential\n",
    "from keras.layers import Dense, Dropout, BatchNormalization, Activation\n",
    "from sklearn.preprocessing import MinMaxScaler, StandardScaler\n",
    "from sklearn.metrics import precision_recall_curve\n",
    "\n",
    "import numpy as np\n",
    "import pandas as pd\n",
    "import matplotlib.pyplot as plt\n",
    "from keras.callbacks import EarlyStopping, ReduceLROnPlateau\n",
    "\n",
    "import seaborn as sns"
   ]
  },
  {
   "cell_type": "code",
   "execution_count": 77,
   "metadata": {
    "id": "JUbvPGbjq_AF"
   },
   "outputs": [],
   "source": [
    "data = pd.read_csv('dataset.csv', header=None)"
   ]
  },
  {
   "cell_type": "markdown",
   "metadata": {
    "id": "AUTIgc37rE4d"
   },
   "source": [
    "Train-validation-test split of the dataset\n",
    "\n",
    "fractions : 0.75 - 0.15 - 0.1"
   ]
  },
  {
   "cell_type": "code",
   "execution_count": 78,
   "metadata": {
    "id": "e4uxaWbvrBnF"
   },
   "outputs": [],
   "source": [
    "val_frac = 0.15\n",
    "\n",
    "test_frac = 0.1"
   ]
  },
  {
   "cell_type": "code",
   "execution_count": 8,
   "metadata": {
    "id": "vC_JLh2irEIR"
   },
   "outputs": [],
   "source": [
    "data = data.sample(frac=1)  # shuffle (optional)"
   ]
  },
  {
   "cell_type": "code",
   "execution_count": 79,
   "metadata": {
    "id": "T3TfhNJ_rGfa"
   },
   "outputs": [],
   "source": [
    "val_size = int(val_frac*len(data))\n",
    "test_size = int(test_frac*len(data))\n",
    "\n",
    "train_data = data.iloc[val_size+test_size:]\n",
    "val_data = data.iloc[test_size:val_size+test_size]\n",
    "test_data = data.iloc[:test_size]"
   ]
  },
  {
   "cell_type": "code",
   "execution_count": 80,
   "metadata": {
    "id": "L1rT8znyrOfy"
   },
   "outputs": [],
   "source": [
    "threshold = 0.01 # threshold of the target for \"good scores\" classification"
   ]
  },
  {
   "cell_type": "code",
   "execution_count": 81,
   "metadata": {
    "id": "nndxVV-JrQKp"
   },
   "outputs": [],
   "source": [
    "def labeling(data):\n",
    "  \"\"\"\n",
    "  getting labels and features from dataset\n",
    "  \"\"\"\n",
    "  scores = data.values[:, 0]\n",
    "  labels = (scores > threshold).astype(int)\n",
    "  X = data.drop(columns=[0]).values\n",
    "\n",
    "  return X, labels, scores\n",
    "\n",
    "X_train, y_train, train_scores = labeling(train_data)\n",
    "X_val, y_val, val_scores = labeling(val_data)\n",
    "X_test, y_test, test_scores = labeling(test_data)"
   ]
  },
  {
   "cell_type": "markdown",
   "metadata": {
    "id": "olWpvVopxdbE"
   },
   "source": [
    "normalization"
   ]
  },
  {
   "cell_type": "code",
   "execution_count": 82,
   "metadata": {
    "id": "ZUfRqAYArYAV"
   },
   "outputs": [],
   "source": [
    "normalizer = MinMaxScaler(feature_range=(0,1))\n",
    "\n",
    "# normalizer = StandardScaler()\n",
    "\n",
    "X_train = normalizer.fit_transform(X_train)\n",
    "\n",
    "X_val = normalizer.transform(X_val)\n",
    "\n",
    "X_test = normalizer.transform(X_test)"
   ]
  },
  {
   "cell_type": "markdown",
   "metadata": {
    "id": "GMjXICqmrjVz"
   },
   "source": [
    "Cleaning data - undersampling using **Tomek's Links**"
   ]
  },
  {
   "cell_type": "code",
   "execution_count": 83,
   "metadata": {
    "id": "lOIp1lXkrH8f"
   },
   "outputs": [],
   "source": [
    "from imblearn.under_sampling import TomekLinks"
   ]
  },
  {
   "cell_type": "code",
   "execution_count": 84,
   "metadata": {
    "colab": {
     "base_uri": "https://localhost:8080/"
    },
    "id": "rXH1t3aNtWd1",
    "outputId": "20a4654d-7f45-4d04-f802-81f20e29f312"
   },
   "outputs": [
    {
     "name": "stdout",
     "output_type": "stream",
     "text": [
      "share of the first class before cleaning = 0.14548743835896238\n"
     ]
    }
   ],
   "source": [
    "print(\"share of the first class before cleaning =\", y_train.sum() / len(y_train))"
   ]
  },
  {
   "cell_type": "code",
   "execution_count": 87,
   "metadata": {
    "id": "3kYWBD1Psw6b"
   },
   "outputs": [],
   "source": [
    "tl = TomekLinks(sampling_strategy='all')\n",
    "\n",
    "X_train, y_train = tl.fit_resample(X_train, y_train)"
   ]
  },
  {
   "cell_type": "code",
   "execution_count": 63,
   "metadata": {
    "colab": {
     "base_uri": "https://localhost:8080/"
    },
    "id": "KKn71NVEtHGd",
    "outputId": "08f1c0f5-0e92-45dc-de8d-e1d1986667db"
   },
   "outputs": [
    {
     "name": "stdout",
     "output_type": "stream",
     "text": [
      "share of the first class after cleaning = 0.11163053803379121\n"
     ]
    }
   ],
   "source": [
    "print(\"share of the first class after cleaning =\", y_train.sum() / len(y_train))"
   ]
  },
  {
   "cell_type": "markdown",
   "metadata": {
    "id": "Wz7hFnjwuh1U"
   },
   "source": [
    "Model building"
   ]
  },
  {
   "cell_type": "code",
   "execution_count": 64,
   "metadata": {
    "id": "-f6RsJPQtVaI"
   },
   "outputs": [],
   "source": [
    "model = Sequential(name=\"sequential\")\n",
    "\n",
    "model.add(keras.Input(shape=(16)))\n",
    "\n",
    "model.add(Dense(32))\n",
    "model.add(BatchNormalization())\n",
    "model.add(keras.layers.LeakyReLU(alpha=0.1))\n",
    "\n",
    "model.add(Dense(32))\n",
    "model.add(BatchNormalization())\n",
    "model.add(keras.layers.LeakyReLU(alpha=0.1))\n",
    "model.add(Dropout(0.1))\n",
    "\n",
    "model.add(Dense(32))\n",
    "model.add(BatchNormalization())\n",
    "model.add(keras.layers.LeakyReLU(alpha=0.1))\n",
    "\n",
    "model.add(Dense(32))\n",
    "model.add(BatchNormalization())\n",
    "model.add(keras.layers.LeakyReLU(alpha=0.1))\n",
    "model.add(Dropout(0.1))\n",
    "\n",
    "model.add(Dense(8))\n",
    "model.add(BatchNormalization())\n",
    "model.add(keras.layers.LeakyReLU(alpha=0.1))\n",
    "\n",
    "model.add(Dense(1))\n",
    "model.add(BatchNormalization())\n",
    "model.add(Activation(\"sigmoid\"))"
   ]
  },
  {
   "cell_type": "code",
   "execution_count": 43,
   "metadata": {
    "colab": {
     "base_uri": "https://localhost:8080/"
    },
    "id": "azL12FGruwxS",
    "outputId": "17d0626d-f175-4e35-c91a-9ee6517973d9"
   },
   "outputs": [
    {
     "name": "stdout",
     "output_type": "stream",
     "text": [
      "Model: \"sequential\"\n",
      "_________________________________________________________________\n",
      "Layer (type)                 Output Shape              Param #   \n",
      "=================================================================\n",
      "dense_6 (Dense)              (None, 32)                544       \n",
      "_________________________________________________________________\n",
      "batch_normalization_6 (Batch (None, 32)                128       \n",
      "_________________________________________________________________\n",
      "leaky_re_lu_5 (LeakyReLU)    (None, 32)                0         \n",
      "_________________________________________________________________\n",
      "dense_7 (Dense)              (None, 32)                1056      \n",
      "_________________________________________________________________\n",
      "batch_normalization_7 (Batch (None, 32)                128       \n",
      "_________________________________________________________________\n",
      "leaky_re_lu_6 (LeakyReLU)    (None, 32)                0         \n",
      "_________________________________________________________________\n",
      "dropout_2 (Dropout)          (None, 32)                0         \n",
      "_________________________________________________________________\n",
      "dense_8 (Dense)              (None, 32)                1056      \n",
      "_________________________________________________________________\n",
      "batch_normalization_8 (Batch (None, 32)                128       \n",
      "_________________________________________________________________\n",
      "leaky_re_lu_7 (LeakyReLU)    (None, 32)                0         \n",
      "_________________________________________________________________\n",
      "dense_9 (Dense)              (None, 32)                1056      \n",
      "_________________________________________________________________\n",
      "batch_normalization_9 (Batch (None, 32)                128       \n",
      "_________________________________________________________________\n",
      "leaky_re_lu_8 (LeakyReLU)    (None, 32)                0         \n",
      "_________________________________________________________________\n",
      "dropout_3 (Dropout)          (None, 32)                0         \n",
      "_________________________________________________________________\n",
      "dense_10 (Dense)             (None, 8)                 264       \n",
      "_________________________________________________________________\n",
      "batch_normalization_10 (Batc (None, 8)                 32        \n",
      "_________________________________________________________________\n",
      "leaky_re_lu_9 (LeakyReLU)    (None, 8)                 0         \n",
      "_________________________________________________________________\n",
      "dense_11 (Dense)             (None, 1)                 9         \n",
      "_________________________________________________________________\n",
      "batch_normalization_11 (Batc (None, 1)                 4         \n",
      "_________________________________________________________________\n",
      "activation_1 (Activation)    (None, 1)                 0         \n",
      "=================================================================\n",
      "Total params: 4,533\n",
      "Trainable params: 4,259\n",
      "Non-trainable params: 274\n",
      "_________________________________________________________________\n"
     ]
    }
   ],
   "source": [
    "model.summary()"
   ]
  },
  {
   "cell_type": "markdown",
   "metadata": {
    "id": "nfzY8u1cuyyo"
   },
   "source": [
    "model training"
   ]
  },
  {
   "cell_type": "code",
   "execution_count": 65,
   "metadata": {
    "id": "ozTw8SlzuxlK"
   },
   "outputs": [],
   "source": [
    "model.compile(\n",
    "    optimizer = 'adam',     # Optimizer\n",
    "    # Loss function to minimize\n",
    "    loss=keras.losses.BinaryCrossentropy(),\n",
    "    # List of metrics to monitor\n",
    "    metrics=[keras.metrics.Recall(),\n",
    "             keras.metrics.Precision()],\n",
    ")"
   ]
  },
  {
   "cell_type": "code",
   "execution_count": 66,
   "metadata": {
    "id": "EX0w2iEavFE9"
   },
   "outputs": [],
   "source": [
    "#callbacks for learning rate reduce\n",
    "\n",
    "early_stop = EarlyStopping(monitor = 'loss', min_delta = 1e-10, patience = 15, verbose = 1)\n",
    "rlr = ReduceLROnPlateau(monitor = 'loss', factor = 0.5, patience = 5, verbose = 1)"
   ]
  },
  {
   "cell_type": "code",
   "execution_count": null,
   "metadata": {
    "colab": {
     "base_uri": "https://localhost:8080/",
     "height": 1000
    },
    "id": "UuAfMbI_zLgE",
    "outputId": "111934de-da26-4cd2-b509-f5545b7bdf4d"
   },
   "outputs": [
    {
     "name": "stdout",
     "output_type": "stream",
     "text": [
      "Fit model on training data\n",
      "Epoch 1/200\n",
      "2928/2928 [==============================] - 9s 3ms/step - loss: 0.4331 - recall_3: 0.1424 - precision_3: 0.1744 - val_loss: 0.3770 - val_recall_3: 0.0075 - val_precision_3: 0.3492\n",
      "Epoch 2/200\n",
      "2928/2928 [==============================] - 8s 3ms/step - loss: 0.3172 - recall_3: 0.0029 - precision_3: 0.3409 - val_loss: 0.3683 - val_recall_3: 0.0092 - val_precision_3: 0.3699\n",
      "Epoch 3/200\n",
      "2928/2928 [==============================] - 8s 3ms/step - loss: 0.3108 - recall_3: 0.0029 - precision_3: 0.5085 - val_loss: 0.3695 - val_recall_3: 3.4165e-04 - val_precision_3: 0.3333\n",
      "Epoch 4/200\n",
      "2928/2928 [==============================] - 8s 3ms/step - loss: 0.3095 - recall_3: 0.0043 - precision_3: 0.5696 - val_loss: 0.3672 - val_recall_3: 0.0010 - val_precision_3: 0.3750\n",
      "Epoch 5/200\n",
      "2928/2928 [==============================] - 8s 3ms/step - loss: 0.3090 - recall_3: 0.0035 - precision_3: 0.5211 - val_loss: 0.3695 - val_recall_3: 0.0010 - val_precision_3: 0.5000\n",
      "Epoch 6/200\n",
      "2928/2928 [==============================] - 9s 3ms/step - loss: 0.3081 - recall_3: 0.0035 - precision_3: 0.4744 - val_loss: 0.3648 - val_recall_3: 0.0061 - val_precision_3: 0.4186\n",
      "Epoch 7/200\n",
      "2928/2928 [==============================] - 12s 4ms/step - loss: 0.3081 - recall_3: 0.0045 - precision_3: 0.5054 - val_loss: 0.3664 - val_recall_3: 0.0027 - val_precision_3: 0.4444\n",
      "Epoch 8/200\n",
      "2928/2928 [==============================] - 9s 3ms/step - loss: 0.3074 - recall_3: 0.0063 - precision_3: 0.5546 - val_loss: 0.3661 - val_recall_3: 0.0024 - val_precision_3: 0.3889\n",
      "Epoch 9/200\n",
      "2928/2928 [==============================] - 8s 3ms/step - loss: 0.3068 - recall_3: 0.0046 - precision_3: 0.5053 - val_loss: 0.3802 - val_recall_3: 6.8329e-04 - val_precision_3: 1.0000\n",
      "Epoch 10/200\n",
      "2928/2928 [==============================] - 8s 3ms/step - loss: 0.3076 - recall_3: 0.0029 - precision_3: 0.5882 - val_loss: 0.3659 - val_recall_3: 0.0038 - val_precision_3: 0.5000\n",
      "Epoch 11/200\n",
      "2928/2928 [==============================] - 8s 3ms/step - loss: 0.3064 - recall_3: 0.0037 - precision_3: 0.5821 - val_loss: 0.3653 - val_recall_3: 0.0024 - val_precision_3: 0.3333\n",
      "Epoch 12/200\n",
      "2928/2928 [==============================] - 9s 3ms/step - loss: 0.3062 - recall_3: 0.0034 - precision_3: 0.4444 - val_loss: 0.3661 - val_recall_3: 0.0014 - val_precision_3: 0.3333\n",
      "Epoch 13/200\n",
      "2928/2928 [==============================] - 9s 3ms/step - loss: 0.3056 - recall_3: 0.0042 - precision_3: 0.5500 - val_loss: 0.3639 - val_recall_3: 6.8329e-04 - val_precision_3: 0.4000\n",
      "Epoch 14/200\n",
      "2928/2928 [==============================] - 8s 3ms/step - loss: 0.3055 - recall_3: 0.0048 - precision_3: 0.5376 - val_loss: 0.3644 - val_recall_3: 0.0014 - val_precision_3: 0.4000\n",
      "Epoch 15/200\n",
      "2928/2928 [==============================] - 8s 3ms/step - loss: 0.3059 - recall_3: 0.0038 - precision_3: 0.6154 - val_loss: 0.3777 - val_recall_3: 6.8329e-04 - val_precision_3: 0.5000\n",
      "Epoch 16/200\n",
      "2928/2928 [==============================] - 9s 3ms/step - loss: 0.3055 - recall_3: 0.0048 - precision_3: 0.6024 - val_loss: 0.3652 - val_recall_3: 0.0061 - val_precision_3: 0.4390\n",
      "Epoch 17/200\n",
      "2928/2928 [==============================] - 8s 3ms/step - loss: 0.3047 - recall_3: 0.0049 - precision_3: 0.5604 - val_loss: 0.3633 - val_recall_3: 0.0061 - val_precision_3: 0.4091\n",
      "Epoch 18/200\n",
      "2928/2928 [==============================] - 8s 3ms/step - loss: 0.3055 - recall_3: 0.0054 - precision_3: 0.5327 - val_loss: 0.3721 - val_recall_3: 0.0140 - val_precision_3: 0.4059\n",
      "Epoch 19/200\n",
      "2928/2928 [==============================] - 9s 3ms/step - loss: 0.3052 - recall_3: 0.0059 - precision_3: 0.5345 - val_loss: 0.3632 - val_recall_3: 0.0041 - val_precision_3: 0.4286\n",
      "Epoch 20/200\n",
      "2928/2928 [==============================] - 9s 3ms/step - loss: 0.3048 - recall_3: 0.0045 - precision_3: 0.5281 - val_loss: 0.3676 - val_recall_3: 0.0072 - val_precision_3: 0.4286\n",
      "Epoch 21/200\n",
      "2928/2928 [==============================] - 9s 3ms/step - loss: 0.3046 - recall_3: 0.0051 - precision_3: 0.5761 - val_loss: 0.3734 - val_recall_3: 0.0017 - val_precision_3: 0.5000\n",
      "Epoch 22/200\n",
      "2928/2928 [==============================] - 8s 3ms/step - loss: 0.3046 - recall_3: 0.0036 - precision_3: 0.5352 - val_loss: 0.3638 - val_recall_3: 0.0024 - val_precision_3: 0.5000\n",
      "Epoch 23/200\n",
      "2928/2928 [==============================] - 9s 3ms/step - loss: 0.3046 - recall_3: 0.0044 - precision_3: 0.5750 - val_loss: 0.3645 - val_recall_3: 0.0014 - val_precision_3: 0.6667\n",
      "Epoch 24/200\n",
      "2928/2928 [==============================] - 8s 3ms/step - loss: 0.3051 - recall_3: 0.0032 - precision_3: 0.5312 - val_loss: 0.3655 - val_recall_3: 6.8329e-04 - val_precision_3: 0.6667\n",
      "Epoch 25/200\n",
      "2928/2928 [==============================] - 8s 3ms/step - loss: 0.3048 - recall_3: 0.0029 - precision_3: 0.4225 - val_loss: 0.3730 - val_recall_3: 0.0024 - val_precision_3: 0.4667\n",
      "Epoch 26/200\n",
      "2928/2928 [==============================] - 8s 3ms/step - loss: 0.3042 - recall_3: 0.0038 - precision_3: 0.5479 - val_loss: 0.3656 - val_recall_3: 0.0017 - val_precision_3: 0.5000\n",
      "Epoch 27/200\n",
      "2928/2928 [==============================] - 8s 3ms/step - loss: 0.3048 - recall_3: 0.0042 - precision_3: 0.5641 - val_loss: 0.3648 - val_recall_3: 0.0044 - val_precision_3: 0.5652\n",
      "Epoch 28/200\n",
      "2928/2928 [==============================] - 9s 3ms/step - loss: 0.3039 - recall_3: 0.0056 - precision_3: 0.5960 - val_loss: 0.3643 - val_recall_3: 0.0017 - val_precision_3: 0.5000\n",
      "Epoch 29/200\n",
      "2928/2928 [==============================] - 8s 3ms/step - loss: 0.3041 - recall_3: 0.0040 - precision_3: 0.5526 - val_loss: 0.3628 - val_recall_3: 0.0024 - val_precision_3: 0.5385\n",
      "Epoch 30/200\n",
      "2928/2928 [==============================] - 9s 3ms/step - loss: 0.3044 - recall_3: 0.0036 - precision_3: 0.5507 - val_loss: 0.3651 - val_recall_3: 0.0017 - val_precision_3: 0.5556\n",
      "Epoch 31/200\n",
      "2928/2928 [==============================] - 8s 3ms/step - loss: 0.3040 - recall_3: 0.0043 - precision_3: 0.6522 - val_loss: 0.3644 - val_recall_3: 0.0017 - val_precision_3: 0.5556\n",
      "Epoch 32/200\n",
      "2928/2928 [==============================] - 9s 3ms/step - loss: 0.3041 - recall_3: 0.0050 - precision_3: 0.5591 - val_loss: 0.3642 - val_recall_3: 0.0017 - val_precision_3: 0.6250\n",
      "Epoch 33/200\n",
      "2912/2928 [============================>.] - ETA: 0s - loss: 0.3043 - recall_3: 0.0036 - precision_3: 0.5873\n",
      "Epoch 00033: ReduceLROnPlateau reducing learning rate to 0.0005000000237487257.\n",
      "2928/2928 [==============================] - 9s 3ms/step - loss: 0.3045 - recall_3: 0.0037 - precision_3: 0.6000 - val_loss: 0.3663 - val_recall_3: 0.0020 - val_precision_3: 0.4286\n",
      "Epoch 34/200\n",
      "2928/2928 [==============================] - 9s 3ms/step - loss: 0.3035 - recall_3: 0.0039 - precision_3: 0.6406 - val_loss: 0.3630 - val_recall_3: 0.0024 - val_precision_3: 0.5000\n",
      "Epoch 35/200\n",
      "2928/2928 [==============================] - 9s 3ms/step - loss: 0.3029 - recall_3: 0.0039 - precision_3: 0.5857 - val_loss: 0.3622 - val_recall_3: 0.0020 - val_precision_3: 0.4000\n",
      "Epoch 36/200\n",
      "2928/2928 [==============================] - 9s 3ms/step - loss: 0.3034 - recall_3: 0.0047 - precision_3: 0.5904 - val_loss: 0.3631 - val_recall_3: 0.0044 - val_precision_3: 0.4643\n",
      "Epoch 37/200\n",
      "2928/2928 [==============================] - 9s 3ms/step - loss: 0.3029 - recall_3: 0.0046 - precision_3: 0.5854 - val_loss: 0.3639 - val_recall_3: 0.0031 - val_precision_3: 0.4500\n",
      "Epoch 38/200\n",
      "2928/2928 [==============================] - 8s 3ms/step - loss: 0.3030 - recall_3: 0.0040 - precision_3: 0.6364 - val_loss: 0.3629 - val_recall_3: 0.0027 - val_precision_3: 0.4000\n",
      "Epoch 39/200\n",
      "2928/2928 [==============================] - 8s 3ms/step - loss: 0.3026 - recall_3: 0.0051 - precision_3: 0.6092 - val_loss: 0.3654 - val_recall_3: 0.0017 - val_precision_3: 0.3846\n",
      "Epoch 40/200\n",
      "2928/2928 [==============================] - 8s 3ms/step - loss: 0.3031 - recall_3: 0.0042 - precision_3: 0.6111 - val_loss: 0.3649 - val_recall_3: 0.0017 - val_precision_3: 0.3571\n",
      "Epoch 41/200\n",
      "2928/2928 [==============================] - 9s 3ms/step - loss: 0.3028 - recall_3: 0.0042 - precision_3: 0.5366 - val_loss: 0.3635 - val_recall_3: 0.0017 - val_precision_3: 0.6250\n",
      "Epoch 42/200\n",
      "2928/2928 [==============================] - 9s 3ms/step - loss: 0.3033 - recall_3: 0.0042 - precision_3: 0.5176 - val_loss: 0.3634 - val_recall_3: 0.0017 - val_precision_3: 0.6250\n",
      "Epoch 43/200\n",
      "2928/2928 [==============================] - 8s 3ms/step - loss: 0.3031 - recall_3: 0.0041 - precision_3: 0.5811 - val_loss: 0.3637 - val_recall_3: 0.0034 - val_precision_3: 0.5882\n",
      "Epoch 44/200\n",
      "2928/2928 [==============================] - 8s 3ms/step - loss: 0.3023 - recall_3: 0.0051 - precision_3: 0.6386 - val_loss: 0.3650 - val_recall_3: 0.0017 - val_precision_3: 0.5556\n",
      "Epoch 45/200\n",
      "2928/2928 [==============================] - 8s 3ms/step - loss: 0.3029 - recall_3: 0.0057 - precision_3: 0.6000 - val_loss: 0.3644 - val_recall_3: 0.0034 - val_precision_3: 0.5556\n",
      "Epoch 46/200\n",
      "2928/2928 [==============================] - 9s 3ms/step - loss: 0.3024 - recall_3: 0.0045 - precision_3: 0.5663 - val_loss: 0.3623 - val_recall_3: 0.0034 - val_precision_3: 0.5263\n",
      "Epoch 47/200\n",
      "2928/2928 [==============================] - 8s 3ms/step - loss: 0.3026 - recall_3: 0.0054 - precision_3: 0.5895 - val_loss: 0.3624 - val_recall_3: 0.0048 - val_precision_3: 0.5385\n",
      "Epoch 48/200\n",
      "2928/2928 [==============================] - 8s 3ms/step - loss: 0.3030 - recall_3: 0.0054 - precision_3: 0.6333 - val_loss: 0.3640 - val_recall_3: 0.0017 - val_precision_3: 0.6250\n",
      "Epoch 49/200\n",
      "2915/2928 [============================>.] - ETA: 0s - loss: 0.3028 - recall_3: 0.0034 - precision_3: 0.5303\n",
      "Epoch 00049: ReduceLROnPlateau reducing learning rate to 0.0002500000118743628.\n",
      "2928/2928 [==============================] - 8s 3ms/step - loss: 0.3027 - recall_3: 0.0034 - precision_3: 0.5294 - val_loss: 0.3633 - val_recall_3: 0.0044 - val_precision_3: 0.5417\n",
      "Epoch 50/200\n",
      "2928/2928 [==============================] - 8s 3ms/step - loss: 0.3025 - recall_3: 0.0058 - precision_3: 0.6289 - val_loss: 0.3629 - val_recall_3: 0.0034 - val_precision_3: 0.5263\n",
      "Epoch 51/200\n",
      "2928/2928 [==============================] - 8s 3ms/step - loss: 0.3022 - recall_3: 0.0052 - precision_3: 0.6429 - val_loss: 0.3627 - val_recall_3: 0.0034 - val_precision_3: 0.5263\n",
      "Epoch 52/200\n",
      "2928/2928 [==============================] - 8s 3ms/step - loss: 0.3021 - recall_3: 0.0060 - precision_3: 0.6117 - val_loss: 0.3630 - val_recall_3: 0.0034 - val_precision_3: 0.4545\n",
      "Epoch 53/200\n",
      "2928/2928 [==============================] - 8s 3ms/step - loss: 0.3018 - recall_3: 0.0052 - precision_3: 0.6000 - val_loss: 0.3641 - val_recall_3: 0.0027 - val_precision_3: 0.6667\n",
      "Epoch 54/200\n",
      "2928/2928 [==============================] - 8s 3ms/step - loss: 0.3022 - recall_3: 0.0056 - precision_3: 0.6705 - val_loss: 0.3628 - val_recall_3: 0.0017 - val_precision_3: 0.6250\n",
      "Epoch 55/200\n",
      "2928/2928 [==============================] - 8s 3ms/step - loss: 0.3021 - recall_3: 0.0045 - precision_3: 0.6620 - val_loss: 0.3650 - val_recall_3: 0.0048 - val_precision_3: 0.5600\n",
      "Epoch 56/200\n",
      "2928/2928 [==============================] - 9s 3ms/step - loss: 0.3024 - recall_3: 0.0048 - precision_3: 0.5952 - val_loss: 0.3622 - val_recall_3: 0.0034 - val_precision_3: 0.5263\n",
      "Epoch 57/200\n",
      "2928/2928 [==============================] - 8s 3ms/step - loss: 0.3020 - recall_3: 0.0049 - precision_3: 0.5543 - val_loss: 0.3630 - val_recall_3: 0.0017 - val_precision_3: 0.6250\n",
      "Epoch 58/200\n",
      "2913/2928 [============================>.] - ETA: 0s - loss: 0.3016 - recall_3: 0.0045 - precision_3: 0.5875\n",
      "Epoch 00058: ReduceLROnPlateau reducing learning rate to 0.0001250000059371814.\n",
      "2928/2928 [==============================] - 8s 3ms/step - loss: 0.3018 - recall_3: 0.0046 - precision_3: 0.5926 - val_loss: 0.3633 - val_recall_3: 0.0041 - val_precision_3: 0.5714\n",
      "Epoch 59/200\n",
      "2928/2928 [==============================] - 9s 3ms/step - loss: 0.3019 - recall_3: 0.0046 - precision_3: 0.5854 - val_loss: 0.3628 - val_recall_3: 0.0027 - val_precision_3: 0.6154\n",
      "Epoch 60/200\n",
      "2928/2928 [==============================] - 8s 3ms/step - loss: 0.3023 - recall_3: 0.0055 - precision_3: 0.5918 - val_loss: 0.3625 - val_recall_3: 0.0027 - val_precision_3: 0.6154\n",
      "Epoch 61/200\n",
      "2928/2928 [==============================] - 8s 3ms/step - loss: 0.3015 - recall_3: 0.0052 - precision_3: 0.6136 - val_loss: 0.3629 - val_recall_3: 0.0031 - val_precision_3: 0.5625\n",
      "Epoch 62/200\n",
      "2928/2928 [==============================] - 8s 3ms/step - loss: 0.3018 - recall_3: 0.0050 - precision_3: 0.5714 - val_loss: 0.3638 - val_recall_3: 0.0031 - val_precision_3: 0.6000\n",
      "Epoch 63/200\n",
      "2928/2928 [==============================] - 8s 3ms/step - loss: 0.3010 - recall_3: 0.0060 - precision_3: 0.6058 - val_loss: 0.3627 - val_recall_3: 0.0031 - val_precision_3: 0.6000\n",
      "Epoch 64/200\n",
      "2928/2928 [==============================] - 8s 3ms/step - loss: 0.3013 - recall_3: 0.0048 - precision_3: 0.5435 - val_loss: 0.3626 - val_recall_3: 0.0031 - val_precision_3: 0.6000\n",
      "Epoch 65/200\n",
      "2928/2928 [==============================] - 8s 3ms/step - loss: 0.3016 - recall_3: 0.0045 - precision_3: 0.6104 - val_loss: 0.3628 - val_recall_3: 0.0031 - val_precision_3: 0.6000\n",
      "Epoch 66/200\n",
      "2928/2928 [==============================] - 9s 3ms/step - loss: 0.3019 - recall_3: 0.0054 - precision_3: 0.6706 - val_loss: 0.3634 - val_recall_3: 0.0031 - val_precision_3: 0.6000\n",
      "Epoch 67/200\n",
      "2928/2928 [==============================] - 8s 3ms/step - loss: 0.3021 - recall_3: 0.0055 - precision_3: 0.6237 - val_loss: 0.3646 - val_recall_3: 0.0031 - val_precision_3: 0.6429\n",
      "Epoch 68/200\n",
      "2916/2928 [============================>.] - ETA: 0s - loss: 0.3021 - recall_3: 0.0047 - precision_3: 0.5976\n",
      "Epoch 00068: ReduceLROnPlateau reducing learning rate to 6.25000029685907e-05.\n",
      "2928/2928 [==============================] - 8s 3ms/step - loss: 0.3022 - recall_3: 0.0047 - precision_3: 0.5976 - val_loss: 0.3647 - val_recall_3: 0.0024 - val_precision_3: 0.6364\n",
      "Epoch 69/200\n",
      "2928/2928 [==============================] - 9s 3ms/step - loss: 0.3020 - recall_3: 0.0050 - precision_3: 0.5843 - val_loss: 0.3633 - val_recall_3: 0.0027 - val_precision_3: 0.6667\n",
      "Epoch 70/200\n",
      "2928/2928 [==============================] - 8s 3ms/step - loss: 0.3017 - recall_3: 0.0048 - precision_3: 0.6098 - val_loss: 0.3631 - val_recall_3: 0.0027 - val_precision_3: 0.6667\n",
      "Epoch 71/200\n",
      "2928/2928 [==============================] - 8s 3ms/step - loss: 0.3016 - recall_3: 0.0054 - precision_3: 0.6000 - val_loss: 0.3630 - val_recall_3: 0.0031 - val_precision_3: 0.5625\n",
      "Epoch 72/200\n",
      "2928/2928 [==============================] - 9s 3ms/step - loss: 0.3012 - recall_3: 0.0051 - precision_3: 0.6023 - val_loss: 0.3630 - val_recall_3: 0.0027 - val_precision_3: 0.6154\n",
      "Epoch 73/200\n",
      "2917/2928 [============================>.] - ETA: 0s - loss: 0.3019 - recall_3: 0.0055 - precision_3: 0.6196\n",
      "Epoch 00073: ReduceLROnPlateau reducing learning rate to 3.125000148429535e-05.\n",
      "2928/2928 [==============================] - 9s 3ms/step - loss: 0.3018 - recall_3: 0.0055 - precision_3: 0.6237 - val_loss: 0.3631 - val_recall_3: 0.0027 - val_precision_3: 0.6154\n",
      "Epoch 74/200\n",
      "2928/2928 [==============================] - 8s 3ms/step - loss: 0.3011 - recall_3: 0.0046 - precision_3: 0.5854 - val_loss: 0.3633 - val_recall_3: 0.0027 - val_precision_3: 0.6667\n",
      "Epoch 75/200\n",
      "2928/2928 [==============================] - 8s 3ms/step - loss: 0.3015 - recall_3: 0.0048 - precision_3: 0.6024 - val_loss: 0.3630 - val_recall_3: 0.0031 - val_precision_3: 0.6429\n",
      "Epoch 76/200\n",
      "2928/2928 [==============================] - 9s 3ms/step - loss: 0.3016 - recall_3: 0.0040 - precision_3: 0.5676 - val_loss: 0.3637 - val_recall_3: 0.0027 - val_precision_3: 0.6667\n",
      "Epoch 77/200\n",
      "2928/2928 [==============================] - 8s 3ms/step - loss: 0.3010 - recall_3: 0.0047 - precision_3: 0.6049 - val_loss: 0.3632 - val_recall_3: 0.0027 - val_precision_3: 0.6154\n",
      "Epoch 78/200\n",
      "2925/2928 [============================>.] - ETA: 0s - loss: 0.3018 - recall_3: 0.0045 - precision_3: 0.6351\n",
      "Epoch 00078: ReduceLROnPlateau reducing learning rate to 1.5625000742147677e-05.\n",
      "2928/2928 [==============================] - 12s 4ms/step - loss: 0.3017 - recall_3: 0.0046 - precision_3: 0.6316 - val_loss: 0.3633 - val_recall_3: 0.0027 - val_precision_3: 0.6154\n",
      "Epoch 00078: early stopping\n"
     ]
    }
   ],
   "source": [
    "print(\"Fit model on training data\")\n",
    "history = model.fit(\n",
    "    X_train,\n",
    "    y_train,\n",
    "    batch_size=32,\n",
    "    epochs=200,\n",
    "    validation_data=(X_val, y_val),\n",
    "    callbacks = [early_stop, rlr]\n",
    ")"
   ]
  },
  {
   "cell_type": "code",
   "execution_count": null,
   "metadata": {
    "colab": {
     "base_uri": "https://localhost:8080/",
     "height": 67
    },
    "id": "m4rpOR0T_Ylr",
    "outputId": "f5ab4195-44e2-408b-d00a-f1aeac2fe598"
   },
   "outputs": [
    {
     "name": "stdout",
     "output_type": "stream",
     "text": [
      "Evaluate on test data\n",
      "108/108 [==============================] - 0s 2ms/step - loss: 0.3691 - recall_3: 0.0040 - precision_3: 0.8000\n",
      "test loss, test recall, test precision: [0.36911100149154663, 0.004036326892673969, 0.800000011920929]\n"
     ]
    }
   ],
   "source": [
    "print(\"Evaluate on test data\")\n",
    "results = model.evaluate(X_test, y_test, batch_size=128)\n",
    "print(\"test loss, test recall, test precision:\", results)"
   ]
  },
  {
   "cell_type": "code",
   "execution_count": null,
   "metadata": {
    "colab": {
     "base_uri": "https://localhost:8080/",
     "height": 154
    },
    "id": "oxhIHCBV_pyN",
    "outputId": "04bbc4f9-995e-47e8-a119-79c12c800fd5"
   },
   "outputs": [
    {
     "name": "stdout",
     "output_type": "stream",
     "text": [
      "WARNING:tensorflow:From /usr/local/lib/python3.6/dist-packages/tensorflow/python/training/tracking/tracking.py:111: Model.state_updates (from tensorflow.python.keras.engine.training) is deprecated and will be removed in a future version.\n",
      "Instructions for updating:\n",
      "This property should not be used in TensorFlow 2.0, as updates are applied automatically.\n",
      "WARNING:tensorflow:From /usr/local/lib/python3.6/dist-packages/tensorflow/python/training/tracking/tracking.py:111: Layer.updates (from tensorflow.python.keras.engine.base_layer) is deprecated and will be removed in a future version.\n",
      "Instructions for updating:\n",
      "This property should not be used in TensorFlow 2.0, as updates are applied automatically.\n",
      "INFO:tensorflow:Assets written to: model/assets\n"
     ]
    }
   ],
   "source": [
    "model.save(\"model\")"
   ]
  },
  {
   "cell_type": "code",
   "execution_count": null,
   "metadata": {},
   "outputs": [],
   "source": [
    "# load model from the directory 'model'\n",
    "\n",
    "model = keras.models.load_model('model')"
   ]
  },
  {
   "cell_type": "markdown",
   "metadata": {
    "id": "MVCeQljmx1qY"
   },
   "source": [
    "Analysis"
   ]
  },
  {
   "cell_type": "code",
   "execution_count": 48,
   "metadata": {
    "id": "0qyTNOgvx9Rm"
   },
   "outputs": [],
   "source": [
    "#getting test predictions - probabilities\n",
    "\n",
    "predictions = model.predict(X_test)[:, 0]"
   ]
  },
  {
   "cell_type": "code",
   "execution_count": null,
   "metadata": {
    "colab": {
     "base_uri": "https://localhost:8080/",
     "height": 553
    },
    "id": "a8F9xgugzDo_",
    "outputId": "6a8615cd-32e0-4d15-c71b-f0753a0c54c9"
   },
   "outputs": [
    {
     "data": {
      "image/png": "[encoded data removed]",
      "text/plain": [
       "<Figure size 648x648 with 1 Axes>"
      ]
     },
     "metadata": {
      "needs_background": "light",
      "tags": []
     },
     "output_type": "display_data"
    }
   ],
   "source": [
    "plt.figure(figsize=(9, 9))\n",
    "\n",
    "plt.title(\"Probabilistic distribution by class\")\n",
    "\n",
    "plt.hist(predictions[y_test==1], bins=15, label=\"Good scores\", alpha=0.5,density=True)\n",
    "\n",
    "plt.hist(predictions[y_test==0], bins=15, label=\"bad scores\", alpha=0.5,density=True)\n",
    "plt.legend()\n",
    "plt.show()"
   ]
  },
  {
   "cell_type": "code",
   "execution_count": null,
   "metadata": {
    "id": "4LepU2nRA_rg"
   },
   "outputs": [],
   "source": [
    "# getting precision, recall for each threshold of the output probability of the model \n",
    "\n",
    "precision, recall, thresholds = precision_recall_curve(y_test, predictions)"
   ]
  },
  {
   "cell_type": "code",
   "execution_count": null,
   "metadata": {
    "colab": {
     "base_uri": "https://localhost:8080/",
     "height": 567
    },
    "id": "1NR-oczbzDpF",
    "outputId": "093d7b3b-010f-4a95-b9bf-1db5f7ffddf4"
   },
   "outputs": [
    {
     "data": {
      "image/png": "[encoded data removed]",
      "text/plain": [
       "<Figure size 648x648 with 1 Axes>"
      ]
     },
     "metadata": {
      "needs_background": "light",
      "tags": []
     },
     "output_type": "display_data"
    }
   ],
   "source": [
    "plt.figure(figsize=(9, 9))\n",
    "plt.title(\"PR Curve\")\n",
    "\n",
    "plt.plot(recall[::-1], precision[::-1])\n",
    "\n",
    "plt.xlabel(\"recall\")\n",
    "plt.xlim((0.01, 0.1))\n",
    "plt.ylabel(\"precision\")\n",
    "\n",
    "plt.show()"
   ]
  },
  {
   "cell_type": "markdown",
   "metadata": {
    "id": "-LU1nBBuCxiF"
   },
   "source": [
    "The recall should be between 1% and 10%\n",
    "\n",
    "So we choose max precision while the recall in (0.01, 0.1)"
   ]
  },
  {
   "cell_type": "code",
   "execution_count": null,
   "metadata": {
    "id": "6QRZA7tHzis9"
   },
   "outputs": [],
   "source": [
    "lim_recall_cond = (recall > 0.01) & (recall < 0.1)"
   ]
  },
  {
   "cell_type": "code",
   "execution_count": null,
   "metadata": {
    "colab": {
     "base_uri": "https://localhost:8080/",
     "height": 34
    },
    "id": "OKGcy-TpzOEc",
    "outputId": "5c37200c-16bf-463d-c38e-ee463c0b1ceb"
   },
   "outputs": [
    {
     "name": "stdout",
     "output_type": "stream",
     "text": [
      "max precision (s.t. recall in (0.01, 0.1)) = 0.625\n"
     ]
    }
   ],
   "source": [
    "print(\"max precision (s.t. recall in (0.01, 0.1)) =\", precision[lim_recall_cond].max())"
   ]
  },
  {
   "cell_type": "code",
   "execution_count": null,
   "metadata": {
    "colab": {
     "base_uri": "https://localhost:8080/",
     "height": 34
    },
    "id": "hnVPQDm6zd53",
    "outputId": "932cfd9f-f7f3-4f3c-cf9f-d2fc88c5da2c"
   },
   "outputs": [
    {
     "name": "stdout",
     "output_type": "stream",
     "text": [
      "optimal recall = 0.010090817356205853\n"
     ]
    }
   ],
   "source": [
    "print(\"optimal recall =\", recall[lim_recall_cond][precision[lim_recall_cond].argmax()])"
   ]
  },
  {
   "cell_type": "code",
   "execution_count": null,
   "metadata": {
    "colab": {
     "base_uri": "https://localhost:8080/",
     "height": 34
    },
    "id": "tRoVbZWx09hj",
    "outputId": "c7406e0a-4c0a-43c0-df4e-55ff6a105c17"
   },
   "outputs": [
    {
     "name": "stdout",
     "output_type": "stream",
     "text": [
      "optimal probability threshold = 0.43813377618789673\n"
     ]
    }
   ],
   "source": [
    "thresholds = np.concatenate([[0], thresholds])\n",
    "\n",
    "prob_thrsh = thresholds[lim_recall_cond][precision[lim_recall_cond].argmax()]\n",
    "\n",
    "print(\"optimal probability threshold =\", prob_thrsh)"
   ]
  },
  {
   "cell_type": "markdown",
   "metadata": {
    "id": "KKpie3eRCQ8v"
   },
   "source": [
    "We say that the score is good (i.e. we mark the label as 1) if predicted probability of the model is greater than optimal probability threshold"
   ]
  },
  {
   "cell_type": "code",
   "execution_count": null,
   "metadata": {
    "colab": {
     "base_uri": "https://localhost:8080/",
     "height": 34
    },
    "id": "ch9hqyQh1Q_h",
    "outputId": "b71ce848-d06a-4dee-a070-78145f048dc9"
   },
   "outputs": [
    {
     "name": "stdout",
     "output_type": "stream",
     "text": [
      "the average of selected scores = 0.1475\n"
     ]
    }
   ],
   "source": [
    "print(\"the average of selected scores =\", test_scores[predictions > prob_thrsh].mean())"
   ]
  },
  {
   "cell_type": "code",
   "execution_count": null,
   "metadata": {
    "id": "4CeDGzW01nAr"
   },
   "outputs": [],
   "source": []
  }
 ],
 "metadata": {
  "colab": {
   "name": "classification_compl.ipynb",
   "provenance": []
  },
  "kernelspec": {
   "display_name": "Python 3",
   "language": "python",
   "name": "python3"
  },
  "language_info": {
   "codemirror_mode": {
    "name": "ipython",
    "version": 3
   },
   "file_extension": ".py",
   "mimetype": "text/x-python",
   "name": "python",
   "nbconvert_exporter": "python",
   "pygments_lexer": "ipython3",
   "version": "3.7.6"
  }
 },
 "nbformat": 4,
 "nbformat_minor": 1
}
